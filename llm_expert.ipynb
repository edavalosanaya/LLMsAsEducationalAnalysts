{
 "cells": [
  {
   "cell_type": "code",
   "execution_count": null,
   "metadata": {},
   "outputs": [],
   "source": [
    "import pathlib\n",
    "import datetime\n",
    "import json\n",
    "from collections import defaultdict\n",
    "import pathlib\n",
    "\n",
    "from readability import Readability\n",
    "import seaborn\n",
    "import matplotlib.pyplot as plt\n",
    "import pandas as pd\n",
    "import ollama\n",
    "\n",
    "CWD = pathlib.Path(\"\").parent"
   ]
  },
  {
   "cell_type": "code",
   "execution_count": null,
   "metadata": {},
   "outputs": [],
   "source": [
    "\n",
    "prompt_res_table = defaultdict(list)\n",
    "for assignment_name, df in zip(assignment_names, all_dfs):\n",
    "    text = texts[assignment_name]\n",
    "    summary = summaries[assignment_name]\n",
    "    prompt = generate_prompt(assignment_name, df, text, summary)\n",
    "\n",
    "    res = ollama.chat(\n",
    "        model=\"llama3\",\n",
    "        messages=[\n",
    "            {\n",
    "                \"role\": \"user\",\n",
    "                \"content\": json.dumps(prompt)\n",
    "            }\n",
    "        ]\n",
    "    )\n",
    "    \n",
    "    content = res['message']['content']\n",
    "    # Write into a markdown file\n",
    "    with open(f\"./data/reports/{assignment_name}.md\", \"w\") as f:\n",
    "        f.write(content)\n",
    "\n",
    "    # Store the results in a table\n",
    "    prompt_res_table['assignment'].append(assignment_name)\n",
    "    prompt_res_table['prompt'].append(prompt)\n",
    "    prompt_res_table['response'].append(content)\n",
    "\n",
    "    break\n",
    "\n",
    "# Save the results into a table\n",
    "timestamp = datetime.datetime.now().strftime(\"%Y-%m-%d-%H-%M-%S\")\n",
    "prompt_res_df = pd.DataFrame(prompt_res_table)\n",
    "prompt_res_df.to_excel(CWD / 'data' / 'prompt_responses' / f\"res_{timestamp}.xlsx\", index=False)"
   ]
  }
 ],
 "metadata": {
  "kernelspec": {
   "display_name": "research",
   "language": "python",
   "name": "python3"
  },
  "language_info": {
   "name": "python",
   "version": "3.10.15"
  }
 },
 "nbformat": 4,
 "nbformat_minor": 2
}
